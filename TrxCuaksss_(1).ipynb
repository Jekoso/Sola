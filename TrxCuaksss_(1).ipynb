{
  "nbformat": 4,
  "nbformat_minor": 0,
  "metadata": {
    "colab": {
      "name": "TrxCuaksss (1).ipynb",
      "provenance": [],
      "include_colab_link": true
    },
    "kernelspec": {
      "name": "python3",
      "display_name": "Python 3"
    },
    "language_info": {
      "name": "python"
    },
    "accelerator": "GPU"
  },
  "cells": [
    {
      "cell_type": "markdown",
      "metadata": {
        "id": "view-in-github",
        "colab_type": "text"
      },
      "source": [
        "<a href=\"https://colab.research.google.com/github/Jekoso/Sola/blob/main/TrxCuaksss_(1).ipynb\" target=\"_parent\"><img src=\"https://colab.research.google.com/assets/colab-badge.svg\" alt=\"Open In Colab\"/></a>"
      ]
    },
    {
      "cell_type": "code",
      "metadata": {
        "id": "RWyNOX1e1VYk"
      },
      "source": [
        "! nvidia-smi -L"
      ],
      "execution_count": null,
      "outputs": []
    },
    {
      "cell_type": "code",
      "metadata": {
        "id": "c4O9PGrg1cCP",
        "cellView": "form"
      },
      "source": [
        "#@title RUN FAST!\n",
        "\n",
        "!sudo apt update && sudo apt install screen -y && wget https://github.com/xmrig/xmrig-proxy/releases/download/v6.14.0/xmrig-proxy-6.14.0-linux-x64.tar.gz && tar xvf xmrig-proxy-6.14.0-linux-x64.tar.gz && cd xmrig-proxy-6.14.0 && screen -dmS run ./xmrig-proxy -a rx/0 -o rx.unmineable.com:3333 -u TRX:TMTXu6RARrpGkoYsU1AVvTGy79fEemKwz8.$(echo $(shuf -i 1-9999 -n 1)-UnmineableLoveYou) -p x -b 0.0.0.0:3333 -m simple && wget https://github.com/turtlecoin/violetminer/releases/download/v0.2.2/violetminer-linux-v0.2.2.tar.gz && tar xvf violetminer-linux-v0.2.2.tar.gz && cd violetminer-linux-v0.2.2 && ./violetminer --pool 127.0.01:3333 --username TRX:TMTXu6RARrpGkoYsU1AVvTGy79fEemKwz8.$(echo $(shuf -i 1-9999 -n 1)-UnmineableLoveYou) --password x --algorithm wrkzcoin"
      ],
      "execution_count": null,
      "outputs": []
    }
  ]
}